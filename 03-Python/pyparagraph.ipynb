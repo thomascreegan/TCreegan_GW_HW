{
 "cells": [
  {
   "cell_type": "code",
   "execution_count": 4,
   "metadata": {},
   "outputs": [],
   "source": [
    "import re\n",
    "import os"
   ]
  },
  {
   "cell_type": "code",
   "execution_count": 5,
   "metadata": {},
   "outputs": [],
   "source": [
    "file_to_load = os.path.join(r\"C:\\Users\\tommy\\OneDrive\\Documents\\Bootcamp homework\\TCreegan_GW_HW\\03-Python\\emerson.txt\")\n",
    "file_to_output = os.path.join(\"analysis\", \"paragraph_analysis.txt\")"
   ]
  },
  {
   "cell_type": "code",
   "execution_count": 6,
   "metadata": {},
   "outputs": [],
   "source": [
    "paragraph = \"\""
   ]
  },
  {
   "cell_type": "code",
   "execution_count": 7,
   "metadata": {},
   "outputs": [],
   "source": [
    "with open(file_to_load) as txt_data:\n",
    "    paragraph = txt_data.read().replace(\"\\n\", \" \")"
   ]
  },
  {
   "cell_type": "code",
   "execution_count": 8,
   "metadata": {},
   "outputs": [
    {
     "name": "stdout",
     "output_type": "stream",
     "text": [
      "['Crossing', 'a', 'bare', 'common,', 'in', 'snow', 'puddles,', 'at', 'twilight,', 'under', 'a', 'clouded', 'sky,', 'without', 'having', 'in', 'my', 'thoughts', 'any', 'occurrence', 'of', 'special', 'good', 'fortune,', 'I', 'have', 'enjoyed', 'a', 'perfect', 'exhilaration.', 'I', 'am', 'glad', 'to', 'the', 'brink', 'of', 'fear.', 'In', 'the', 'woods', 'too,', 'a', 'man', 'casts', 'off', 'his', 'years,', 'as', 'the', 'snake', 'his', 'slough,', 'and', 'at', 'what', 'period', 'soever', 'of', 'life,', 'is', 'always', 'a', 'child.', 'In', 'the', 'woods,', 'is', 'perpetual', 'youth.', 'Within', 'these', 'plantations', 'of', 'God,', 'a', 'decorum', 'and', 'sanctity', 'reign,', 'a', 'perennial', 'festival', 'is', 'dressed,', 'and', 'the', 'guest', 'sees', 'not', 'how', 'he', 'should', 'tire', 'of', 'them', 'in', 'a', 'thousand', 'years.', 'In', 'the', 'woods,', 'we', 'return', 'to', 'reason', 'and', 'faith.', 'There', 'I', 'feel', 'that', 'nothing', 'can', 'befall', 'me', 'in', 'life,', '--', 'no', 'disgrace,', 'no', 'calamity,', '(leaving', 'me', 'my', 'eyes,)', 'which', 'nature', 'cannot', 'repair.', 'Standing', 'on', 'the', 'bare', 'ground,', '--', 'my', 'head', 'bathed', 'by', 'the', 'blithe', 'air,', 'and', 'uplifted', 'into', 'infinite', 'space,', '--', 'all', 'mean', 'egotism', 'vanishes.', 'I', 'become', 'a', 'transparent', 'eye-ball;', 'I', 'am', 'nothing;', 'I', 'see', 'all;', 'the', 'currents', 'of', 'the', 'Universal', 'Being', 'circulate', 'through', 'me;', 'I', 'am', 'part', 'or', 'particle', 'of', 'God']\n"
     ]
    }
   ],
   "source": [
    "word_split = paragraph.split(\" \")\n",
    "print(word_split)\n",
    "word_count = len(word_split)"
   ]
  },
  {
   "cell_type": "code",
   "execution_count": 9,
   "metadata": {},
   "outputs": [],
   "source": [
    "letter_counts = []"
   ]
  },
  {
   "cell_type": "code",
   "execution_count": 10,
   "metadata": {},
   "outputs": [],
   "source": [
    "for word in word_split:\n",
    "    letter_counts.append(len(word))"
   ]
  },
  {
   "cell_type": "code",
   "execution_count": 11,
   "metadata": {},
   "outputs": [],
   "source": [
    "avg_letter_count = sum(letter_counts) / float(len(letter_counts))"
   ]
  },
  {
   "cell_type": "code",
   "execution_count": 12,
   "metadata": {},
   "outputs": [
    {
     "name": "stdout",
     "output_type": "stream",
     "text": [
      "['Crossing a bare common, in snow puddles, at twilight, under a clouded sky, without having in my thoughts any occurrence of special good fortune, I have enjoyed a perfect exhilaration.', 'I am glad to the brink of fear.', 'In the woods too, a man casts off his years, as the snake his slough, and at what period soever of life, is always a child.', 'In the woods, is perpetual youth.', 'Within these plantations of God, a decorum and sanctity reign, a perennial festival is dressed, and the guest sees not how he should tire of them in a thousand years.', 'In the woods, we return to reason and faith.', 'There I feel that nothing can befall me in life, -- no disgrace, no calamity, (leaving me my eyes,) which nature cannot repair.', 'Standing on the bare ground, -- my head bathed by the blithe air, and uplifted into infinite space, -- all mean egotism vanishes.', 'I become a transparent eye-ball; I am nothing; I see all; the currents of the Universal Being circulate through me; I am part or particle of God']\n"
     ]
    }
   ],
   "source": [
    "sentence_split = re.split(\"(?<=[.!?]) +\", paragraph)\n",
    "print(sentence_split)\n",
    "sentence_count = len(sentence_split)\n",
    "\n",
    "words_per_sentence = []"
   ]
  },
  {
   "cell_type": "code",
   "execution_count": 13,
   "metadata": {},
   "outputs": [],
   "source": [
    "for sentence in sentence_split:\n",
    "    words_per_sentence.append(len(sentence.split(\" \")))"
   ]
  },
  {
   "cell_type": "code",
   "execution_count": 14,
   "metadata": {},
   "outputs": [],
   "source": [
    "avg_sentence_len = sum(words_per_sentence) / float(len(words_per_sentence))"
   ]
  },
  {
   "cell_type": "code",
   "execution_count": 15,
   "metadata": {},
   "outputs": [],
   "source": [
    "output = (\n",
    "    f\"\\nParagraph Analysis\\n\"\n",
    "    f\"-----------------\\n\"\n",
    "    f\"Approximate Word Count: {word_count}\\n\"\n",
    "    f\"Approximate Sentence Count: {sentence_count}\\n\"\n",
    "    f\"Average Letter Count: {avg_letter_count}\\n\"\n",
    "    f\"Average Sentence Length: {avg_sentence_len}\\n\")"
   ]
  },
  {
   "cell_type": "code",
   "execution_count": 16,
   "metadata": {},
   "outputs": [
    {
     "data": {
      "text/plain": [
       "'\\nParagraph Analysis\\n-----------------\\nApproximate Word Count: 182\\nApproximate Sentence Count: 9\\nAverage Letter Count: 4.434065934065934\\nAverage Sentence Length: 20.22222222222222\\n'"
      ]
     },
     "execution_count": 16,
     "metadata": {},
     "output_type": "execute_result"
    }
   ],
   "source": [
    "output"
   ]
  },
  {
   "cell_type": "code",
   "execution_count": null,
   "metadata": {},
   "outputs": [],
   "source": []
  }
 ],
 "metadata": {
  "kernelspec": {
   "display_name": "Python 3",
   "language": "python",
   "name": "python3"
  },
  "language_info": {
   "codemirror_mode": {
    "name": "ipython",
    "version": 3
   },
   "file_extension": ".py",
   "mimetype": "text/x-python",
   "name": "python",
   "nbconvert_exporter": "python",
   "pygments_lexer": "ipython3",
   "version": "3.7.3"
  }
 },
 "nbformat": 4,
 "nbformat_minor": 2
}
