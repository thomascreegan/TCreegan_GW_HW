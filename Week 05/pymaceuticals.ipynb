{
 "cells": [
  {
   "cell_type": "code",
   "execution_count": null,
   "metadata": {},
   "outputs": [],
   "source": [
    "# Dependencies and Setup\n",
    "%matplotlib inline\n",
    "import matplotlib.pyplot as plt\n",
    "import pandas as pd\n",
    "import numpy as np\n",
    "\n",
    "# Hide warning messages in notebook\n",
    "import warnings\n",
    "warnings.filterwarnings('ignore')\n",
    "\n",
    "# File to Load (Remember to Change These)\n",
    "mouse_drug_data_to_load = r\"C:\\Users\\tommy\\Documents\\GWU-ARL-DATA-PT-09-2019-U-C\\02-Homework\\05-Matplotlib\\Instructions\\Part-2\\Pymaceuticals\\data\\mouse_drug_data.csv\"\n",
    "clinical_trial_data_to_load = r\"C:\\Users\\tommy\\Documents\\GWU-ARL-DATA-PT-09-2019-U-C\\02-Homework\\05-Matplotlib\\Instructions\\Part-2\\Pymaceuticals\\data\\clinicaltrial_data.csv\"\n",
    "\n",
    "# Read the Mouse and Drug Data and the Clinical Trial Data\n",
    "mouse_df = pd.read_csv(mouse_drug_data_to_load)\n",
    "clinical_df = pd.read_csv(clinical_trial_data_to_load)\n",
    "\n",
    "# Combine the data into a single dataset\n",
    "combined_df = pd.merge(mouse_df, clinical_df, on=\"Mouse ID\")\n",
    "\n",
    "# Display the data table for preview\n",
    "combined_df.head()"
   ]
  },
  {
   "cell_type": "markdown",
   "metadata": {},
   "source": [
    "## Tumor Response to Treatment"
   ]
  },
  {
   "cell_type": "code",
   "execution_count": null,
   "metadata": {},
   "outputs": [],
   "source": [
    "# Store the Mean Tumor Volume Data Grouped by Drug and Timepoint \n",
    "grouped_df = combined_df.groupby([\"Drug\", \"Timepoint\"])\n",
    "mean_tumor_df = grouped_df[\"Tumor Volume (mm3)\"].mean()\n",
    "mean_tumor_df\n",
    "# Convert to DataFrame\n",
    "tumor_response_df = pd.DataFrame(mean_tumor_df).reset_index()\n",
    "# Preview DataFrame\n",
    "tumor_response_df.head()"
   ]
  },
  {
   "cell_type": "code",
   "execution_count": null,
   "metadata": {
    "scrolled": true
   },
   "outputs": [],
   "source": []
  },
  {
   "cell_type": "code",
   "execution_count": null,
   "metadata": {},
   "outputs": [],
   "source": [
    "# Store the Standard Error of Tumor Volumes Grouped by Drug and Timepoint\n",
    "tumor_data_error = grouped_df[\"Tumor Volume (mm3)\"].sem()\n",
    "# Convert to DataFrame\n",
    "tumor_data_error = pd.DataFrame(tumor_data_error).reset_index()\n",
    "# Preview DataFrame\n",
    "tumor_data_error.head()"
   ]
  },
  {
   "cell_type": "code",
   "execution_count": null,
   "metadata": {},
   "outputs": [],
   "source": []
  },
  {
   "cell_type": "code",
   "execution_count": null,
   "metadata": {},
   "outputs": [],
   "source": [
    "# Minor Data Munging to Re-Format the Data Frames\n",
    "clean_df = tumor_response_df.pivot(index = 'Timepoint', columns ='Drug', values = 'Tumor Volume (mm3)') \n",
    "\n",
    "# Preview that Reformatting worked\n",
    "clean_df"
   ]
  },
  {
   "cell_type": "code",
   "execution_count": null,
   "metadata": {
    "scrolled": true
   },
   "outputs": [],
   "source": []
  },
  {
   "cell_type": "code",
   "execution_count": null,
   "metadata": {},
   "outputs": [],
   "source": [
    "# Generate the Plot (with Error Bars)\n",
    "Time = [0, 5, 10, 15, 20, 25, 30, 35, 40, 45]\n",
    "capomulin_error = tumor_data_error.loc[tumor_data_error[\"Drug\"] == \"Capomulin\", \"Tumor Volume (mm3)\"]\n",
    "infubinol_error = tumor_data_error.loc[tumor_data_error[\"Drug\"] == \"Infubinol\", \"Tumor Volume (mm3)\"]\n",
    "ketapril_error = tumor_data_error.loc[tumor_data_error[\"Drug\"] == \"Ketapril\", \"Tumor Volume (mm3)\"]\n",
    "placebo_error = tumor_data_error.loc[tumor_data_error[\"Drug\"] == \"Placebo\", \"Tumor Volume (mm3)\"]\n",
    "plt.errorbar(Time, clean_df[\"Capomulin\"] , yerr= capomulin_error, label= \"Capomulin\", marker= \"o\", color=\"red\", linestyle='--')\n",
    "plt.errorbar(Time, clean_df[\"Infubinol\"] , yerr= infubinol_error, label= \"Infubinol\", marker= \"^\", color=\"blue\", linestyle='--')\n",
    "plt.errorbar(Time, clean_df[\"Ketapril\"] , yerr= ketapril_error, label= \"Ketapril\", marker= \"D\", color=\"black\", linestyle='--')\n",
    "plt.errorbar(Time, clean_df[\"Placebo\"] , yerr= placebo_error , label= \"Placebo\", marker= \"s\", color=\"green\", linestyle='--')\n",
    "plt.legend()\n",
    "plt.title(\"Tumor Response to Treatment \")\n",
    "plt.xlabel(\"Time (Days)\")\n",
    "plt.ylabel(\"Tumor Volume (mm3)\")\n",
    "plt.grid()\n",
    "# Save the Figure\n",
    "plt.savefig(r\"C:\\Users\\tommy\\OneDrive\\Documents\\Personal homework use\\Week 05\")"
   ]
  },
  {
   "cell_type": "code",
   "execution_count": null,
   "metadata": {},
   "outputs": [],
   "source": [
    "# Show the Figure\n",
    "plt.show()"
   ]
  },
  {
   "cell_type": "markdown",
   "metadata": {},
   "source": [
    "![Tumor Response to Treatment](../Images/treatment.png)"
   ]
  },
  {
   "cell_type": "markdown",
   "metadata": {},
   "source": [
    "## Metastatic Response to Treatment"
   ]
  },
  {
   "cell_type": "code",
   "execution_count": null,
   "metadata": {},
   "outputs": [],
   "source": [
    "# Store the Mean Met. Site Data Grouped by Drug and Timepoint \n",
    "grouped_df = combined_df.groupby([\"Drug\", \"Timepoint\"])\n",
    "mean_metsite_df = grouped_df[\"Metastatic Sites\"].mean()\n",
    "# Convert to DataFrame\n",
    "metsite_response_df = pd.DataFrame(mean_metsite_df).reset_index()\n",
    "# Preview DataFrame\n",
    "metsite_response_df.head()"
   ]
  },
  {
   "cell_type": "code",
   "execution_count": null,
   "metadata": {},
   "outputs": [],
   "source": []
  },
  {
   "cell_type": "code",
   "execution_count": null,
   "metadata": {},
   "outputs": [],
   "source": [
    "# Store the Standard Error associated with Met. Sites Grouped by Drug and Timepoint \n",
    "mean_metsite_error = grouped_df[\"Metastatic Sites\"].sem()\n",
    "\n",
    "# Convert to DataFrame\n",
    "metsite_error = pd.DataFrame(mean_metsite_error).reset_index()\n",
    "# Preview DataFrame\n",
    "metsite_error.head()"
   ]
  },
  {
   "cell_type": "code",
   "execution_count": null,
   "metadata": {},
   "outputs": [],
   "source": []
  },
  {
   "cell_type": "code",
   "execution_count": null,
   "metadata": {},
   "outputs": [],
   "source": [
    "# Minor Data Munging to Re-Format the Data Frames\n",
    "clean_metsite = metsite_response_df.pivot(index = 'Timepoint', columns ='Drug', values = 'Metastatic Sites')\n",
    "# Preview that Reformatting worked\n",
    "clean_metsite.head()"
   ]
  },
  {
   "cell_type": "code",
   "execution_count": null,
   "metadata": {
    "scrolled": true
   },
   "outputs": [],
   "source": []
  },
  {
   "cell_type": "code",
   "execution_count": null,
   "metadata": {},
   "outputs": [],
   "source": [
    "# Generate the Plot (with Error Bars)\n",
    "Time = [0, 5, 10, 15, 20, 25, 30, 35, 40, 45]\n",
    "capomulin_error = metsite_error.loc[metsite_error[\"Drug\"] == \"Capomulin\", \"Metastatic Sites\"]\n",
    "infubinol_error = metsite_error.loc[metsite_error[\"Drug\"] == \"Infubinol\", \"Metastatic Sites\"]\n",
    "ketapril_error = metsite_error.loc[metsite_error[\"Drug\"] == \"Ketapril\", \"Metastatic Sites\"]\n",
    "placebo_error = metsite_error.loc[metsite_error[\"Drug\"] == \"Placebo\", \"Metastatic Sites\"]\n",
    "\n",
    "plt.errorbar(Time, clean_metsite[\"Capomulin\"] , yerr= capomulin_error, label= \"Capomulin\", marker= \"o\", color=\"red\", linestyle='--')\n",
    "plt.errorbar(Time, clean_metsite[\"Infubinol\"] , yerr= infubinol_error, label= \"Infubinol\", marker= \"^\", color=\"blue\", linestyle='--')\n",
    "plt.errorbar(Time, clean_metsite[\"Ketapril\"] , yerr= ketapril_error, label= \"Ketapril\", marker= \"D\", color=\"black\", linestyle='--')\n",
    "plt.errorbar(Time, clean_metsite[\"Placebo\"] , yerr= placebo_error, label= \"Placebo\", marker= \"s\", color=\"green\", linestyle='--')\n",
    "plt.legend()\n",
    "plt.title(\"Metastatic spread During Treatment \")\n",
    "plt.xlabel(\"Treatment Duration (Days)\")\n",
    "plt.ylabel(\"Met.Sites\")\n",
    "plt.grid()\n",
    "\n",
    "# Save the Figure\n",
    "plt.savefig(r\"C:\\Users\\tommy\\OneDrive\\Documents\\Personal homework use\\Week 05\\Metsite_Response.png\")\n",
    "# Show the Figure\n",
    "plt.show()"
   ]
  },
  {
   "cell_type": "markdown",
   "metadata": {},
   "source": [
    "![Metastatic Spread During Treatment](../Images/spread.png)"
   ]
  },
  {
   "cell_type": "markdown",
   "metadata": {},
   "source": [
    "## Survival Rates"
   ]
  },
  {
   "cell_type": "code",
   "execution_count": null,
   "metadata": {},
   "outputs": [],
   "source": [
    "# Store the Count of Mice Grouped by Drug and Timepoint (W can pass any metric)\n",
    "group_df = combined_df.groupby([\"Drug\", \"Timepoint\"])\n",
    "count_mice_df = group_df[\"Mouse ID\"].count()\n",
    "# Convert to DataFrame\n",
    "mice_df = pd.DataFrame(count_mice_df).reset_index()\n",
    "# Preview DataFrame\n",
    "mice_df.head()"
   ]
  },
  {
   "cell_type": "code",
   "execution_count": null,
   "metadata": {},
   "outputs": [],
   "source": []
  },
  {
   "cell_type": "code",
   "execution_count": null,
   "metadata": {},
   "outputs": [],
   "source": [
    "# Minor Data Munging to Re-Format the Data Frames\n",
    "clean_mice_df = mice_df.pivot(index = 'Timepoint', columns ='Drug', values = 'Mouse ID')\n",
    "# Preview the Data Frame\n",
    "clean_mice_df.head()"
   ]
  },
  {
   "cell_type": "code",
   "execution_count": null,
   "metadata": {
    "scrolled": true
   },
   "outputs": [],
   "source": []
  },
  {
   "cell_type": "code",
   "execution_count": null,
   "metadata": {},
   "outputs": [],
   "source": [
    "# Generate the Plot (Accounting for percentages)\n",
    "plt.plot(Time, (clean_mice_df[\"Capomulin\"]/25)*100 , label= \"Capomulin\", marker= \"o\", color=\"red\", linestyle='--')\n",
    "plt.plot(Time, (clean_mice_df[\"Infubinol\"]/25)*100 , label= \"Infubinol\", marker= \"^\", color=\"blue\", linestyle='--')\n",
    "plt.plot(Time, (clean_mice_df[\"Ketapril\"]/25)*100 , label= \"Ketapril\", marker= \"D\", color=\"black\", linestyle='--')\n",
    "plt.plot(Time, (clean_mice_df[\"Placebo\"]/25)*100 , label= \"Placebo\", marker= \"s\", color=\"green\", linestyle='--')\n",
    "plt.legend()\n",
    "plt.title(\"Survival During Treatment\")\n",
    "plt.xlabel(\"Time (Days)\")\n",
    "plt.ylabel(\"Survival Rate (%) \")\n",
    "plt.grid()\n",
    "# Save the Figure\n",
    "plt.savefig(r\"C:\\Users\\tommy\\OneDrive\\Documents\\Personal homework use\\Week 05\\Survival_Rate.png\")\n",
    "# Show the Figure\n",
    "plt.show()"
   ]
  },
  {
   "cell_type": "markdown",
   "metadata": {},
   "source": [
    "![Metastatic Spread During Treatment](../Images/survival.png)"
   ]
  },
  {
   "cell_type": "markdown",
   "metadata": {},
   "source": [
    "## Summary Bar Graph"
   ]
  },
  {
   "cell_type": "code",
   "execution_count": null,
   "metadata": {},
   "outputs": [],
   "source": [
    "# Calculate the percent changes for each drug\n",
    "intial_tumor_volume = 45\n",
    "percent_change = ((clean_df.loc[45, :] - intial_tumor_volume)/intial_tumor_volume)*100\n",
    "# Display the data to confirm\n",
    "percent_change"
   ]
  },
  {
   "cell_type": "code",
   "execution_count": null,
   "metadata": {},
   "outputs": [],
   "source": []
  },
  {
   "cell_type": "code",
   "execution_count": null,
   "metadata": {},
   "outputs": [],
   "source": [
    "# Store all Relevant Percent Changes into a Tuple\n",
    "tuple_percent_change = tuple(zip(percent_change.index, percent_change))\n",
    "tuple_percent_change_list = list(tuple_percent_change)\n",
    "tuple_percent_change_list\n",
    "\n",
    "# Splice the data between passing and failing drugs\n",
    "passing_drugs_list = []\n",
    "failing_drugs_list = []\n",
    "index_passing_drugs_list = []\n",
    "index_failing_drugs_list = []\n",
    "for j,elements in tuple_percent_change_list :\n",
    "    if elements > 0 :\n",
    "        passing_drug = elements\n",
    "        passing_drugs_list.append(elements)\n",
    "        index_passing_drugs_list.append(j)\n",
    "    else :\n",
    "        failing_drugs = elements\n",
    "        failing_drugs_list.append(elements)\n",
    "        index_failing_drugs_list.append(j)\n",
    "passing_drugs = list(zip(index_passing_drugs_list, passing_drugs_list))\n",
    "failing_drugs = list(zip(index_failing_drugs_list, failing_drugs_list))\n",
    "\n",
    "# Orient widths. Add labels, tick marks, etc. \n",
    "fig, ax = plt.subplots()\n",
    "y_value1 = [percent_change[\"Infubinol\"], percent_change[\"Ketapril\"], percent_change[\"Placebo\"]]\n",
    "x_axis1 = [0]\n",
    "x_axis2 = [1, 2, 3]\n",
    "\n",
    "bars1 = ax.bar(x_axis1, percent_change[\"Capomulin\"], color='g', alpha=0.8, align=\"edge\", width = -1)\n",
    "bars2 = ax.bar(x_axis2, y_value1 , color='r', alpha=0.8, align=\"edge\", width = -1)\n",
    "x_labels = [\"Capomulin\", \"Infubinol\", \"Ketapril\", \"Placebo\"]\n",
    "\n",
    "plt.setp(ax, xticks=[0, 1, 2, 3], xticklabels=[\"Capomulin\", \"Infubinol\", \"Ketapril\", \"Placebo\"],\n",
    "        yticks=[-20, 0, 20, 40, 60])\n",
    "ax.set_ylabel('% Tumor Volume Change')\n",
    "ax.set_title('Tumor Change Over 45 Day Treatment')\n",
    "ax.grid()\n",
    "\n",
    "# Use functions to label the percentages of changes\n",
    "def autolabel(rects):\n",
    "    for rect in rects:\n",
    "        height = rect.get_height()\n",
    "        ax.text(rect.get_x() + rect.get_width()/2, .1*height, \"%d\" %int(height)+ \"%\",\n",
    "                ha='center', va='top', color=\"white\")\n",
    "\n",
    "\n",
    "# Call functions to implement the function calls\n",
    "autolabel(bars1)\n",
    "autolabel(bars2)\n",
    "fig.tight_layout()\n",
    "\n",
    "# Save the Figure\n",
    "plt.savefig(r\"C:\\Users\\tommy\\OneDrive\\Documents\\Personal homework use\\Week 05\\Percent_Tumor_Volume_Change.png\")\n",
    "\n",
    "# Show the Figure\n",
    "fig.show()"
   ]
  },
  {
   "cell_type": "markdown",
   "metadata": {},
   "source": [
    "![Metastatic Spread During Treatment](../Images/change.png)"
   ]
  },
  {
   "cell_type": "code",
   "execution_count": null,
   "metadata": {},
   "outputs": [],
   "source": []
  }
 ],
 "metadata": {
  "anaconda-cloud": {},
  "kernelspec": {
   "display_name": "Python 3",
   "language": "python",
   "name": "python3"
  },
  "language_info": {
   "codemirror_mode": {
    "name": "ipython",
    "version": 3
   },
   "file_extension": ".py",
   "mimetype": "text/x-python",
   "name": "python",
   "nbconvert_exporter": "python",
   "pygments_lexer": "ipython3",
   "version": "3.7.3"
  }
 },
 "nbformat": 4,
 "nbformat_minor": 1
}
